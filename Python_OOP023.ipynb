{
 "cells": [
  {
   "cell_type": "code",
   "execution_count": null,
   "metadata": {},
   "outputs": [],
   "source": [
    "class solution:\n",
    "    def removeDuplicates(self,nums):\n",
    "        \"\"\"\n",
    "        :type nums: List[int]\n",
    "        :rtype: int\n",
    "        \"\"\"\n",
    "        len_ = 1\n",
    "        if len(nums)==0:\n",
    "            return 0\n",
    "        for i in range(1,len(nums)):\n",
    "            if nums[i] != nums[i-1]:\n",
    "                nums[len_]= nums[i]\n",
    "                len_ += 1\n",
    "        return len_\n"
   ]
  },
  {
   "cell_type": "code",
   "execution_count": null,
   "metadata": {},
   "outputs": [],
   "source": [
    "# Function to remove duplicates from sorted Array\n",
    "def removeDuplicates(self,nums):\n",
    "    len_ = 1\n",
    "    if len(nums)==0:\n",
    "        return 0\n",
    "    for i in range(1,len(nums)):\n",
    "        if nums[i] != nums[i-1]:\n",
    "            nums[len_]= nums[i]\n",
    "            len_ += 1\n",
    "    return len_"
   ]
  },
  {
   "cell_type": "code",
   "execution_count": 10,
   "metadata": {},
   "outputs": [
    {
     "data": {
      "text/plain": [
       "6"
      ]
     },
     "execution_count": 10,
     "metadata": {},
     "output_type": "execute_result"
    }
   ],
   "source": [
    "removeDuplicates(9,[1,1,2,3,4,4,4,5,6])"
   ]
  },
  {
   "cell_type": "code",
   "execution_count": 11,
   "metadata": {},
   "outputs": [],
   "source": [
    "def rd(self, nums):\n",
    "    for i in reversed(range(1,len(nums))):\n",
    "        if nums[i] == nums[i - 1]:\n",
    "            nums.pop(i)\n",
    "    return len(nums)"
   ]
  },
  {
   "cell_type": "code",
   "execution_count": 14,
   "metadata": {},
   "outputs": [
    {
     "data": {
      "text/plain": [
       "2"
      ]
     },
     "execution_count": 14,
     "metadata": {},
     "output_type": "execute_result"
    }
   ],
   "source": [
    "rd(3,[1,2,2])"
   ]
  },
  {
   "cell_type": "code",
   "execution_count": 23,
   "metadata": {},
   "outputs": [],
   "source": [
    "def rmd(self,A):\n",
    "    if not A:\n",
    "        return 0\n",
    "    \n",
    "    newTail = 0\n",
    "    \n",
    "    for i in range(1, len(A)):\n",
    "        if A[i] != A[newTail]:\n",
    "            newTail += 1\n",
    "            A[newTail] = A[i]\n",
    "    return newTail + 1"
   ]
  },
  {
   "cell_type": "code",
   "execution_count": 24,
   "metadata": {},
   "outputs": [
    {
     "data": {
      "text/plain": [
       "2"
      ]
     },
     "execution_count": 24,
     "metadata": {},
     "output_type": "execute_result"
    }
   ],
   "source": [
    "rmd(3,[1,1,2])"
   ]
  },
  {
   "cell_type": "code",
   "execution_count": 26,
   "metadata": {},
   "outputs": [],
   "source": [
    "# Function to decide best time to buy and sell stocks to achieve max profits \n",
    "def maxProfit(self, prices):\n",
    "    price_gain = []\n",
    "    for idx in range(len(prices)-1):\n",
    "        if prices[idx] < prices[idx+1]:\n",
    "            price_gain.append(prices[idx+1] - prices[idx])\n",
    "    return sum(price_gain)"
   ]
  },
  {
   "cell_type": "code",
   "execution_count": null,
   "metadata": {},
   "outputs": [],
   "source": [
    "def maxprofit(self,prices):\n",
    "    return sum((prices[idx+1]-prices[idx]) for idx in range(len(prices)-1) if prices[idx] < prices[idx+1])"
   ]
  },
  {
   "cell_type": "code",
   "execution_count": 27,
   "metadata": {},
   "outputs": [],
   "source": [
    "def MaxProfit(self,prices):\n",
    "    profit_gain = 0\n",
    "    for idx in range(len(prices)-1):\n",
    "        if prices[idx] < prices[idx+1]:\n",
    "            profit_gain += (prices[idx+1] - prices[idx])\n",
    "    return profit_gain"
   ]
  },
  {
   "cell_type": "code",
   "execution_count": null,
   "metadata": {},
   "outputs": [],
   "source": []
  }
 ],
 "metadata": {
  "kernelspec": {
   "display_name": "Python 3",
   "language": "python",
   "name": "python3"
  },
  "language_info": {
   "codemirror_mode": {
    "name": "ipython",
    "version": 3
   },
   "file_extension": ".py",
   "mimetype": "text/x-python",
   "name": "python",
   "nbconvert_exporter": "python",
   "pygments_lexer": "ipython3",
   "version": "3.8.5"
  }
 },
 "nbformat": 4,
 "nbformat_minor": 4
}
